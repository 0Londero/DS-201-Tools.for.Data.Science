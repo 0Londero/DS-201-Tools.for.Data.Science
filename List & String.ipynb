{
 "cells": [
  {
   "metadata": {},
   "cell_type": "markdown",
   "source": "## LIST EXERCISES",
   "id": "2853ba8ae7a3019f"
  },
  {
   "metadata": {},
   "cell_type": "markdown",
   "source": [
    "1. List Creation and Access\n",
    "- Create a list with the following elements: 1, 2, 3, 4, 5. Print the third element in the list.\n"
   ],
   "id": "f4d37738ffc3a91f"
  },
  {
   "metadata": {
    "ExecuteTime": {
     "end_time": "2025-02-04T03:09:18.628978Z",
     "start_time": "2025-02-04T03:09:18.623832Z"
    }
   },
   "cell_type": "code",
   "source": [
    "list_example = [1,2,3,4,5]\n",
    "print(list_example[2])"
   ],
   "id": "74df837255770c30",
   "outputs": [
    {
     "name": "stdout",
     "output_type": "stream",
     "text": [
      "3\n"
     ]
    }
   ],
   "execution_count": 2
  },
  {
   "metadata": {},
   "cell_type": "markdown",
   "source": [
    "2. List Manipulation\n",
    "\n",
    "- Append the number 6 to the list created in the previous exercise. Print the updated list.\n",
    "- Remove the second element from the list. Print the updated list.\n"
   ],
   "id": "e6ff5399103ca6e0"
  },
  {
   "metadata": {
    "ExecuteTime": {
     "end_time": "2025-02-04T03:28:30.729481Z",
     "start_time": "2025-02-04T03:28:30.724925Z"
    }
   },
   "cell_type": "code",
   "source": [
    "list_example = [1,2,3,4,5]\n",
    "list_example.append(6)\n",
    "list_example.pop(1)\n",
    "print(list_example)"
   ],
   "id": "7c002906cdd9fee1",
   "outputs": [
    {
     "name": "stdout",
     "output_type": "stream",
     "text": [
      "[1, 3, 4, 5, 6]\n"
     ]
    }
   ],
   "execution_count": 5
  },
  {
   "metadata": {},
   "cell_type": "markdown",
   "source": [
    "3. List Slicing\n",
    "- Given the list [10, 20, 30, 40, 50, 60, 70, 80, 90, 100], print the first five elements.\n",
    "- Print the last three elements of the list.\n",
    "- Print every second element of the list.\n"
   ],
   "id": "ff5a0e1de74d211a"
  },
  {
   "metadata": {
    "ExecuteTime": {
     "end_time": "2025-02-04T04:57:30.786958Z",
     "start_time": "2025-02-04T04:57:30.781432Z"
    }
   },
   "cell_type": "code",
   "source": [
    "list1 = [10, 20, 30, 40, 50, 60, 70, 80, 90, 100]\n",
    "print(list1[:5])\n",
    "print(list1[-3:])\n",
    "print(list1[1::2])"
   ],
   "id": "fbf096ce797767cf",
   "outputs": [
    {
     "name": "stdout",
     "output_type": "stream",
     "text": [
      "[10, 20, 30, 40, 50]\n",
      "[80, 90, 100]\n",
      "[20, 40, 60, 80, 100]\n"
     ]
    }
   ],
   "execution_count": 27
  },
  {
   "metadata": {},
   "cell_type": "markdown",
   "source": [
    "4. List Operations\n",
    "- Create a list of numbers from 1 to 10. Calculate and print the sum of all elements in the list.\n",
    "- Find and print the maximum and minimum values in the list.\n"
   ],
   "id": "d00d09089d1faeed"
  },
  {
   "metadata": {
    "ExecuteTime": {
     "end_time": "2025-02-04T06:03:39.952458Z",
     "start_time": "2025-02-04T06:03:39.945759Z"
    }
   },
   "cell_type": "code",
   "source": [
    "list2 = [i for i in range(1,11)]\n",
    "print(list2)\n",
    "\n",
    "def sum_list(list):\n",
    "    buffer = 0\n",
    "    for item in list:\n",
    "        buffer += item\n",
    "    return buffer\n",
    "\n",
    "def min_max(list):\n",
    "    min = list[0]\n",
    "    max = 0\n",
    "    for item in list:\n",
    "        if item < min:\n",
    "            min = item\n",
    "        if item > max:\n",
    "            max = item\n",
    "    return min, max\n",
    "\n",
    "print(f\"The sum of all elements in the list is:     {sum_list(list2)}\")\n",
    "print(f\"The minimum and maximum elements in the list is:      {min_max(list2)}\")\n"
   ],
   "id": "256aefe490693133",
   "outputs": [
    {
     "name": "stdout",
     "output_type": "stream",
     "text": [
      "[1, 2, 3, 4, 5, 6, 7, 8, 9, 10]\n",
      "The sum of all elements in the list is:     55\n",
      "The minimum and maximum elements in the list is:      (1, 10)\n"
     ]
    }
   ],
   "execution_count": 67
  },
  {
   "metadata": {},
   "cell_type": "markdown",
   "source": [
    "5. List Comprehension\n",
    "- Create a list of squares for numbers from 1 to 10 using list comprehension. Print the list."
   ],
   "id": "c11781c8ffecd464"
  },
  {
   "metadata": {
    "ExecuteTime": {
     "end_time": "2025-02-04T22:44:24.777156Z",
     "start_time": "2025-02-04T22:44:24.772760Z"
    }
   },
   "cell_type": "code",
   "source": [
    "list3 = [int for int in range(1,11)]\n",
    "list4 = [int*int for int in list3]\n",
    "print(list3)\n",
    "print(list4)"
   ],
   "id": "16e98268140728ca",
   "outputs": [
    {
     "name": "stdout",
     "output_type": "stream",
     "text": [
      "[1, 2, 3, 4, 5, 6, 7, 8, 9, 10]\n",
      "[1, 4, 9, 16, 25, 36, 49, 64, 81, 100]\n"
     ]
    }
   ],
   "execution_count": 7
  },
  {
   "metadata": {},
   "cell_type": "markdown",
   "source": [
    "6. Nested Lists\n",
    "- Create a list that contains three lists: [1, 2, 3], [4, 5, 6], and [7, 8, 9]. Access and print the element 5 from the nested list.\n"
   ],
   "id": "d5234d65dbc57fc6"
  },
  {
   "metadata": {
    "ExecuteTime": {
     "end_time": "2025-02-04T22:46:57.412606Z",
     "start_time": "2025-02-04T22:46:57.408441Z"
    }
   },
   "cell_type": "code",
   "source": [
    "x = [1,2,3]\n",
    "y = [4,5,6]\n",
    "z = [7,8,9]\n",
    "\n",
    "w = x+y+z\n",
    "print(w[4])"
   ],
   "id": "920461fb2f306a9d",
   "outputs": [
    {
     "name": "stdout",
     "output_type": "stream",
     "text": [
      "5\n"
     ]
    }
   ],
   "execution_count": 9
  },
  {
   "metadata": {},
   "cell_type": "markdown",
   "source": "## STRING EXERCISES",
   "id": "fc3e7b55de41a3e2"
  },
  {
   "metadata": {},
   "cell_type": "markdown",
   "source": [
    "1. String Creation and Access\n",
    "- Create a string with the value \"Hello, World!\". Print the first and last character of the string."
   ],
   "id": "9baa5fcbc025e692"
  },
  {
   "metadata": {
    "ExecuteTime": {
     "end_time": "2025-02-04T22:54:52.979422Z",
     "start_time": "2025-02-04T22:54:52.972465Z"
    }
   },
   "cell_type": "code",
   "source": [
    "string1 = \"Hello,World!\"\n",
    "print(string1[0]+string1[-1])\n",
    "print(string1[0]+string1[-2])"
   ],
   "id": "56a47713d72e8fb6",
   "outputs": [
    {
     "name": "stdout",
     "output_type": "stream",
     "text": [
      "H!\n",
      "Hd\n"
     ]
    }
   ],
   "execution_count": 27
  },
  {
   "metadata": {},
   "cell_type": "markdown",
   "source": [
    "2. String Slicing\n",
    "- Given the string \"Python Programming\", print the substring \"Python\".\n",
    "- Print the substring \"Programming\"."
   ],
   "id": "c6ee5140f118a5e6"
  },
  {
   "metadata": {
    "ExecuteTime": {
     "end_time": "2025-02-04T23:00:35.275973Z",
     "start_time": "2025-02-04T23:00:35.270257Z"
    }
   },
   "cell_type": "code",
   "source": [
    "string2 = \"Python Programming\"\n",
    "print(len(string2))\n",
    "print(string2[0:7])\n",
    "print(string2[7:18])"
   ],
   "id": "e46239182f0efcf8",
   "outputs": [
    {
     "name": "stdout",
     "output_type": "stream",
     "text": [
      "18\n",
      "Python \n",
      "Programming\n"
     ]
    }
   ],
   "execution_count": 38
  },
  {
   "metadata": {},
   "cell_type": "markdown",
   "source": [
    "3. String Methods\n",
    "- Convert the string \"hello, world!\" to uppercase and print it.\n",
    "- Replace \"World\" with \"Python\" in the string \"Hello, World!\" and print the updated string."
   ],
   "id": "bfdebf5387c538b4"
  },
  {
   "metadata": {
    "ExecuteTime": {
     "end_time": "2025-02-04T23:04:44.258234Z",
     "start_time": "2025-02-04T23:04:44.252843Z"
    }
   },
   "cell_type": "code",
   "source": [
    "string3 = \"hello, world!\"\n",
    "print(string3.upper())\n",
    "print(string3.replace(\"world\", \"Python\"))"
   ],
   "id": "cefd811d0516a80a",
   "outputs": [
    {
     "name": "stdout",
     "output_type": "stream",
     "text": [
      "HELLO, WORLD!\n",
      "hello, Python!\n"
     ]
    }
   ],
   "execution_count": 40
  },
  {
   "metadata": {},
   "cell_type": "markdown",
   "source": [
    "4. String Concatenation\n",
    "- Concatenate the strings \"Hello\" and \"World\" with a space in between. Print the result."
   ],
   "id": "e7c7c97cc0d1f85a"
  },
  {
   "metadata": {
    "ExecuteTime": {
     "end_time": "2025-02-04T23:08:31.931603Z",
     "start_time": "2025-02-04T23:08:31.926764Z"
    }
   },
   "cell_type": "code",
   "source": [
    "string4 = \"Hello\"\n",
    "string5 = \"World\"\n",
    "print(f\"{string4} {string5}\")"
   ],
   "id": "832d38da1870a03d",
   "outputs": [
    {
     "name": "stdout",
     "output_type": "stream",
     "text": [
      "Hello World\n"
     ]
    }
   ],
   "execution_count": 44
  },
  {
   "metadata": {},
   "cell_type": "markdown",
   "source": [
    "5. String Splitting\n",
    "- Given the string \"apple,banana,cherry\", split it by commas and print the resulting list.\n"
   ],
   "id": "946cd1d995002604"
  },
  {
   "metadata": {
    "ExecuteTime": {
     "end_time": "2025-02-04T23:17:34.145444Z",
     "start_time": "2025-02-04T23:17:34.139965Z"
    }
   },
   "cell_type": "code",
   "source": [
    "fruits = \"apple,banana,cherry\"\n",
    "print(fruits)\n",
    "print(fruits.split(','))"
   ],
   "id": "da0ab24c09eb6c18",
   "outputs": [
    {
     "name": "stdout",
     "output_type": "stream",
     "text": [
      "apple,banana,cherry\n",
      "['apple', 'banana', 'cherry']\n"
     ]
    }
   ],
   "execution_count": 60
  },
  {
   "metadata": {},
   "cell_type": "markdown",
   "source": [
    "6. String Formatting\n",
    "- Use string formatting to create a string that says \"My name is [name] and I am [age] years old\", where [name] and [age] are variables. Print the result."
   ],
   "id": "92e7a3755585b273"
  },
  {
   "metadata": {
    "ExecuteTime": {
     "end_time": "2025-02-04T23:19:29.370835Z",
     "start_time": "2025-02-04T23:19:29.365604Z"
    }
   },
   "cell_type": "code",
   "source": [
    "name = \"Otávio\"\n",
    "age = \"20\"\n",
    "print(f\"My name is {name} and I am {age} years old\")"
   ],
   "id": "c4bb743a4d1c1359",
   "outputs": [
    {
     "name": "stdout",
     "output_type": "stream",
     "text": [
      "My name is Otávio and I am 20 years old\n"
     ]
    }
   ],
   "execution_count": 61
  },
  {
   "metadata": {},
   "cell_type": "markdown",
   "source": [
    "7. String Reversal\n",
    "- Write a program that takes a string input from the user and prints the string in reverse order.\n"
   ],
   "id": "f6fe63d0a00d5622"
  },
  {
   "metadata": {
    "ExecuteTime": {
     "end_time": "2025-02-04T23:28:30.405169Z",
     "start_time": "2025-02-04T23:28:12.175591Z"
    }
   },
   "cell_type": "code",
   "source": [
    "print(\"This program will reverse the order of your string\")\n",
    "user_input = str(input(\"Write your string here:    \"))\n",
    "\n",
    "def sakasama_no_sekai (string):\n",
    "    return string[::-1]\n",
    "\n",
    "print(sakasama_no_sekai(user_input))"
   ],
   "id": "6179c23c7a8c3f5b",
   "outputs": [
    {
     "name": "stdout",
     "output_type": "stream",
     "text": [
      "This program will reverse the order of your string\n",
      "raW doolB sraeY dnasuohT hcaelB\n"
     ]
    }
   ],
   "execution_count": 63
  },
  {
   "metadata": {},
   "cell_type": "markdown",
   "source": "## BONUS",
   "id": "1358139acfdb8aee"
  },
  {
   "metadata": {},
   "cell_type": "markdown",
   "source": [
    "1. Palindrome Check\n",
    "- Write a function that checks whether a given string is a palindrome (reads the same forwards and backwards). Test it with the strings \"madam\" and \"hello\"."
   ],
   "id": "44744a92c901ab46"
  },
  {
   "metadata": {
    "ExecuteTime": {
     "end_time": "2025-02-04T23:33:16.974146Z",
     "start_time": "2025-02-04T23:33:16.969127Z"
    }
   },
   "cell_type": "code",
   "source": [
    "test1 = \"madam\"\n",
    "test2 = \"hello\"\n",
    "\n",
    "def palindrome(string):\n",
    "    if string == string[::-1]:\n",
    "        return \"YES, It is a palindrome\"\n",
    "    else:\n",
    "        return \"NO, It is not a palindrome\"\n",
    "\n",
    "print(palindrome(test1))\n",
    "print(palindrome(test2))"
   ],
   "id": "16046bd7bd84bd5e",
   "outputs": [
    {
     "name": "stdout",
     "output_type": "stream",
     "text": [
      "YES, It is a palindrome\n",
      "NO, It is not a palindrome\n"
     ]
    }
   ],
   "execution_count": 65
  },
  {
   "metadata": {},
   "cell_type": "markdown",
   "source": [
    "2. List to String Conversion\n",
    "- Convert the list ['P', 'y', 't', 'h', 'o', 'n'] to a single string \"Python\". Print the result.\n"
   ],
   "id": "ad003a9d71943e04"
  },
  {
   "metadata": {
    "ExecuteTime": {
     "end_time": "2025-02-04T23:37:34.042583Z",
     "start_time": "2025-02-04T23:37:34.037888Z"
    }
   },
   "cell_type": "code",
   "source": [
    "list5 = ['P', 'y', 't', 'h', 'o', 'n']\n",
    "print(''.join(list5))"
   ],
   "id": "2ffa9d4882fec21",
   "outputs": [
    {
     "name": "stdout",
     "output_type": "stream",
     "text": [
      "Python\n"
     ]
    }
   ],
   "execution_count": 74
  }
 ],
 "metadata": {
  "kernelspec": {
   "display_name": "Python 3",
   "language": "python",
   "name": "python3"
  },
  "language_info": {
   "codemirror_mode": {
    "name": "ipython",
    "version": 2
   },
   "file_extension": ".py",
   "mimetype": "text/x-python",
   "name": "python",
   "nbconvert_exporter": "python",
   "pygments_lexer": "ipython2",
   "version": "2.7.6"
  }
 },
 "nbformat": 4,
 "nbformat_minor": 5
}
