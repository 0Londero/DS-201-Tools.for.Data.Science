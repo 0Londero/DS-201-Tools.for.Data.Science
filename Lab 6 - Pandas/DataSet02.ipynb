{
 "cells": [
  {
   "metadata": {},
   "cell_type": "raw",
   "source": [
    "    #%% md\n",
    "\n",
    "# PANDAS LAB DS2"
   ],
   "id": "a5aea33489c4379a"
  },
  {
   "cell_type": "code",
   "id": "initial_id",
   "metadata": {
    "collapsed": true,
    "ExecuteTime": {
     "end_time": "2025-02-26T04:02:08.521152Z",
     "start_time": "2025-02-26T04:02:08.191693Z"
    }
   },
   "source": [
    "import pandas as pd\n",
    "employee = pd.read_csv('employee_data.csv')"
   ],
   "outputs": [],
   "execution_count": 1
  },
  {
   "metadata": {},
   "cell_type": "markdown",
   "source": [
    "Basic DataFrame Operations:\n",
    "- Load the dataset into a Pandas DataFrame.\n",
    "- Display the first 5 rows of the DataFrame.\n",
    "- Display the summary statistics of the DataFrame.\n",
    "- Display the column names of the DataFrame.\n",
    "- Count the number of employees in each department."
   ],
   "id": "7e32d168639c3d34"
  },
  {
   "metadata": {
    "ExecuteTime": {
     "end_time": "2025-02-26T00:24:52.794421Z",
     "start_time": "2025-02-26T00:24:52.783006Z"
    }
   },
   "cell_type": "code",
   "source": "employee.head(5)",
   "id": "d7f8ee17bf6c4acb",
   "outputs": [
    {
     "data": {
      "text/plain": [
       "   EmployeeID         Name  Age Department  Salary  YearsAtCompany\n",
       "0         101   John Smith   28      Sales   60000               3\n",
       "1         102     Jane Doe   34  Marketing   80000               7\n",
       "2         103  Sam Johnson   45         HR   75000              10\n",
       "3         104    Susan Lee   39    Finance   90000               5\n",
       "4         105  Peter Brown   50         IT   95000              15"
      ],
      "text/html": [
       "<div>\n",
       "<style scoped>\n",
       "    .dataframe tbody tr th:only-of-type {\n",
       "        vertical-align: middle;\n",
       "    }\n",
       "\n",
       "    .dataframe tbody tr th {\n",
       "        vertical-align: top;\n",
       "    }\n",
       "\n",
       "    .dataframe thead th {\n",
       "        text-align: right;\n",
       "    }\n",
       "</style>\n",
       "<table border=\"1\" class=\"dataframe\">\n",
       "  <thead>\n",
       "    <tr style=\"text-align: right;\">\n",
       "      <th></th>\n",
       "      <th>EmployeeID</th>\n",
       "      <th>Name</th>\n",
       "      <th>Age</th>\n",
       "      <th>Department</th>\n",
       "      <th>Salary</th>\n",
       "      <th>YearsAtCompany</th>\n",
       "    </tr>\n",
       "  </thead>\n",
       "  <tbody>\n",
       "    <tr>\n",
       "      <th>0</th>\n",
       "      <td>101</td>\n",
       "      <td>John Smith</td>\n",
       "      <td>28</td>\n",
       "      <td>Sales</td>\n",
       "      <td>60000</td>\n",
       "      <td>3</td>\n",
       "    </tr>\n",
       "    <tr>\n",
       "      <th>1</th>\n",
       "      <td>102</td>\n",
       "      <td>Jane Doe</td>\n",
       "      <td>34</td>\n",
       "      <td>Marketing</td>\n",
       "      <td>80000</td>\n",
       "      <td>7</td>\n",
       "    </tr>\n",
       "    <tr>\n",
       "      <th>2</th>\n",
       "      <td>103</td>\n",
       "      <td>Sam Johnson</td>\n",
       "      <td>45</td>\n",
       "      <td>HR</td>\n",
       "      <td>75000</td>\n",
       "      <td>10</td>\n",
       "    </tr>\n",
       "    <tr>\n",
       "      <th>3</th>\n",
       "      <td>104</td>\n",
       "      <td>Susan Lee</td>\n",
       "      <td>39</td>\n",
       "      <td>Finance</td>\n",
       "      <td>90000</td>\n",
       "      <td>5</td>\n",
       "    </tr>\n",
       "    <tr>\n",
       "      <th>4</th>\n",
       "      <td>105</td>\n",
       "      <td>Peter Brown</td>\n",
       "      <td>50</td>\n",
       "      <td>IT</td>\n",
       "      <td>95000</td>\n",
       "      <td>15</td>\n",
       "    </tr>\n",
       "  </tbody>\n",
       "</table>\n",
       "</div>"
      ]
     },
     "execution_count": 2,
     "metadata": {},
     "output_type": "execute_result"
    }
   ],
   "execution_count": 2
  },
  {
   "metadata": {
    "ExecuteTime": {
     "end_time": "2025-02-26T00:25:21.149624Z",
     "start_time": "2025-02-26T00:25:21.137424Z"
    }
   },
   "cell_type": "code",
   "source": "employee.describe()",
   "id": "31075d21f4eedb28",
   "outputs": [
    {
     "data": {
      "text/plain": [
       "       EmployeeID        Age       Salary  YearsAtCompany\n",
       "count    10.00000  10.000000     10.00000       10.000000\n",
       "mean    105.50000  36.300000  76700.00000        7.100000\n",
       "std       3.02765   7.660142  11343.62278        4.012481\n",
       "min     101.00000  27.000000  60000.00000        2.000000\n",
       "25%     103.25000  29.750000  70500.00000        4.250000\n",
       "50%     105.50000  36.000000  76500.00000        6.500000\n",
       "75%     107.75000  40.500000  83750.00000        9.500000\n",
       "max     110.00000  50.000000  95000.00000       15.000000"
      ],
      "text/html": [
       "<div>\n",
       "<style scoped>\n",
       "    .dataframe tbody tr th:only-of-type {\n",
       "        vertical-align: middle;\n",
       "    }\n",
       "\n",
       "    .dataframe tbody tr th {\n",
       "        vertical-align: top;\n",
       "    }\n",
       "\n",
       "    .dataframe thead th {\n",
       "        text-align: right;\n",
       "    }\n",
       "</style>\n",
       "<table border=\"1\" class=\"dataframe\">\n",
       "  <thead>\n",
       "    <tr style=\"text-align: right;\">\n",
       "      <th></th>\n",
       "      <th>EmployeeID</th>\n",
       "      <th>Age</th>\n",
       "      <th>Salary</th>\n",
       "      <th>YearsAtCompany</th>\n",
       "    </tr>\n",
       "  </thead>\n",
       "  <tbody>\n",
       "    <tr>\n",
       "      <th>count</th>\n",
       "      <td>10.00000</td>\n",
       "      <td>10.000000</td>\n",
       "      <td>10.00000</td>\n",
       "      <td>10.000000</td>\n",
       "    </tr>\n",
       "    <tr>\n",
       "      <th>mean</th>\n",
       "      <td>105.50000</td>\n",
       "      <td>36.300000</td>\n",
       "      <td>76700.00000</td>\n",
       "      <td>7.100000</td>\n",
       "    </tr>\n",
       "    <tr>\n",
       "      <th>std</th>\n",
       "      <td>3.02765</td>\n",
       "      <td>7.660142</td>\n",
       "      <td>11343.62278</td>\n",
       "      <td>4.012481</td>\n",
       "    </tr>\n",
       "    <tr>\n",
       "      <th>min</th>\n",
       "      <td>101.00000</td>\n",
       "      <td>27.000000</td>\n",
       "      <td>60000.00000</td>\n",
       "      <td>2.000000</td>\n",
       "    </tr>\n",
       "    <tr>\n",
       "      <th>25%</th>\n",
       "      <td>103.25000</td>\n",
       "      <td>29.750000</td>\n",
       "      <td>70500.00000</td>\n",
       "      <td>4.250000</td>\n",
       "    </tr>\n",
       "    <tr>\n",
       "      <th>50%</th>\n",
       "      <td>105.50000</td>\n",
       "      <td>36.000000</td>\n",
       "      <td>76500.00000</td>\n",
       "      <td>6.500000</td>\n",
       "    </tr>\n",
       "    <tr>\n",
       "      <th>75%</th>\n",
       "      <td>107.75000</td>\n",
       "      <td>40.500000</td>\n",
       "      <td>83750.00000</td>\n",
       "      <td>9.500000</td>\n",
       "    </tr>\n",
       "    <tr>\n",
       "      <th>max</th>\n",
       "      <td>110.00000</td>\n",
       "      <td>50.000000</td>\n",
       "      <td>95000.00000</td>\n",
       "      <td>15.000000</td>\n",
       "    </tr>\n",
       "  </tbody>\n",
       "</table>\n",
       "</div>"
      ]
     },
     "execution_count": 3,
     "metadata": {},
     "output_type": "execute_result"
    }
   ],
   "execution_count": 3
  },
  {
   "metadata": {
    "ExecuteTime": {
     "end_time": "2025-02-26T00:26:33.162923Z",
     "start_time": "2025-02-26T00:26:33.158175Z"
    }
   },
   "cell_type": "code",
   "source": "employee.columns",
   "id": "f3756a1b92945f",
   "outputs": [
    {
     "data": {
      "text/plain": [
       "Index(['EmployeeID', 'Name', 'Age', 'Department', 'Salary', 'YearsAtCompany'], dtype='object')"
      ]
     },
     "execution_count": 4,
     "metadata": {},
     "output_type": "execute_result"
    }
   ],
   "execution_count": 4
  },
  {
   "metadata": {
    "ExecuteTime": {
     "end_time": "2025-02-26T00:28:24.876825Z",
     "start_time": "2025-02-26T00:28:24.869972Z"
    }
   },
   "cell_type": "code",
   "source": "employee.groupby('Department').count()",
   "id": "d1ab345420946075",
   "outputs": [
    {
     "data": {
      "text/plain": [
       "            EmployeeID  Name  Age  Salary  YearsAtCompany\n",
       "Department                                               \n",
       "Finance              2     2    2       2               2\n",
       "HR                   2     2    2       2               2\n",
       "IT                   2     2    2       2               2\n",
       "Marketing            2     2    2       2               2\n",
       "Sales                2     2    2       2               2"
      ],
      "text/html": [
       "<div>\n",
       "<style scoped>\n",
       "    .dataframe tbody tr th:only-of-type {\n",
       "        vertical-align: middle;\n",
       "    }\n",
       "\n",
       "    .dataframe tbody tr th {\n",
       "        vertical-align: top;\n",
       "    }\n",
       "\n",
       "    .dataframe thead th {\n",
       "        text-align: right;\n",
       "    }\n",
       "</style>\n",
       "<table border=\"1\" class=\"dataframe\">\n",
       "  <thead>\n",
       "    <tr style=\"text-align: right;\">\n",
       "      <th></th>\n",
       "      <th>EmployeeID</th>\n",
       "      <th>Name</th>\n",
       "      <th>Age</th>\n",
       "      <th>Salary</th>\n",
       "      <th>YearsAtCompany</th>\n",
       "    </tr>\n",
       "    <tr>\n",
       "      <th>Department</th>\n",
       "      <th></th>\n",
       "      <th></th>\n",
       "      <th></th>\n",
       "      <th></th>\n",
       "      <th></th>\n",
       "    </tr>\n",
       "  </thead>\n",
       "  <tbody>\n",
       "    <tr>\n",
       "      <th>Finance</th>\n",
       "      <td>2</td>\n",
       "      <td>2</td>\n",
       "      <td>2</td>\n",
       "      <td>2</td>\n",
       "      <td>2</td>\n",
       "    </tr>\n",
       "    <tr>\n",
       "      <th>HR</th>\n",
       "      <td>2</td>\n",
       "      <td>2</td>\n",
       "      <td>2</td>\n",
       "      <td>2</td>\n",
       "      <td>2</td>\n",
       "    </tr>\n",
       "    <tr>\n",
       "      <th>IT</th>\n",
       "      <td>2</td>\n",
       "      <td>2</td>\n",
       "      <td>2</td>\n",
       "      <td>2</td>\n",
       "      <td>2</td>\n",
       "    </tr>\n",
       "    <tr>\n",
       "      <th>Marketing</th>\n",
       "      <td>2</td>\n",
       "      <td>2</td>\n",
       "      <td>2</td>\n",
       "      <td>2</td>\n",
       "      <td>2</td>\n",
       "    </tr>\n",
       "    <tr>\n",
       "      <th>Sales</th>\n",
       "      <td>2</td>\n",
       "      <td>2</td>\n",
       "      <td>2</td>\n",
       "      <td>2</td>\n",
       "      <td>2</td>\n",
       "    </tr>\n",
       "  </tbody>\n",
       "</table>\n",
       "</div>"
      ]
     },
     "execution_count": 7,
     "metadata": {},
     "output_type": "execute_result"
    }
   ],
   "execution_count": 7
  },
  {
   "metadata": {},
   "cell_type": "markdown",
   "source": [
    "Filtering and Subsetting:\n",
    "- Filter the DataFrame to show only employees who are older than 40.\n",
    "- Filter the DataFrame to show only employees in the 'IT' department.\n",
    "- Filter the DataFrame to show employees with a salary above 75000.\n",
    "- Select the Name and Salary columns for all employees.\n",
    "- Calculate the average salary for each department."
   ],
   "id": "919610e25ded30d9"
  },
  {
   "metadata": {
    "ExecuteTime": {
     "end_time": "2025-02-26T00:32:24.937302Z",
     "start_time": "2025-02-26T00:32:24.929113Z"
    }
   },
   "cell_type": "code",
   "source": "employee[employee['Age'] > 40]",
   "id": "6aa95070d1db6ab3",
   "outputs": [
    {
     "data": {
      "text/plain": [
       "   EmployeeID         Name  Age Department  Salary  YearsAtCompany\n",
       "2         103  Sam Johnson   45         HR   75000              10\n",
       "4         105  Peter Brown   50         IT   95000              15\n",
       "7         108  Karen Black   41         HR   78000              11"
      ],
      "text/html": [
       "<div>\n",
       "<style scoped>\n",
       "    .dataframe tbody tr th:only-of-type {\n",
       "        vertical-align: middle;\n",
       "    }\n",
       "\n",
       "    .dataframe tbody tr th {\n",
       "        vertical-align: top;\n",
       "    }\n",
       "\n",
       "    .dataframe thead th {\n",
       "        text-align: right;\n",
       "    }\n",
       "</style>\n",
       "<table border=\"1\" class=\"dataframe\">\n",
       "  <thead>\n",
       "    <tr style=\"text-align: right;\">\n",
       "      <th></th>\n",
       "      <th>EmployeeID</th>\n",
       "      <th>Name</th>\n",
       "      <th>Age</th>\n",
       "      <th>Department</th>\n",
       "      <th>Salary</th>\n",
       "      <th>YearsAtCompany</th>\n",
       "    </tr>\n",
       "  </thead>\n",
       "  <tbody>\n",
       "    <tr>\n",
       "      <th>2</th>\n",
       "      <td>103</td>\n",
       "      <td>Sam Johnson</td>\n",
       "      <td>45</td>\n",
       "      <td>HR</td>\n",
       "      <td>75000</td>\n",
       "      <td>10</td>\n",
       "    </tr>\n",
       "    <tr>\n",
       "      <th>4</th>\n",
       "      <td>105</td>\n",
       "      <td>Peter Brown</td>\n",
       "      <td>50</td>\n",
       "      <td>IT</td>\n",
       "      <td>95000</td>\n",
       "      <td>15</td>\n",
       "    </tr>\n",
       "    <tr>\n",
       "      <th>7</th>\n",
       "      <td>108</td>\n",
       "      <td>Karen Black</td>\n",
       "      <td>41</td>\n",
       "      <td>HR</td>\n",
       "      <td>78000</td>\n",
       "      <td>11</td>\n",
       "    </tr>\n",
       "  </tbody>\n",
       "</table>\n",
       "</div>"
      ]
     },
     "execution_count": 8,
     "metadata": {},
     "output_type": "execute_result"
    }
   ],
   "execution_count": 8
  },
  {
   "metadata": {
    "ExecuteTime": {
     "end_time": "2025-02-26T00:33:06.861481Z",
     "start_time": "2025-02-26T00:33:06.846114Z"
    }
   },
   "cell_type": "code",
   "source": "employee[employee['Department'] == 'IT']",
   "id": "518d6353139016b1",
   "outputs": [
    {
     "data": {
      "text/plain": [
       "   EmployeeID          Name  Age Department  Salary  YearsAtCompany\n",
       "4         105   Peter Brown   50         IT   95000              15\n",
       "9         110  Alice Purple   27         IT   70000               2"
      ],
      "text/html": [
       "<div>\n",
       "<style scoped>\n",
       "    .dataframe tbody tr th:only-of-type {\n",
       "        vertical-align: middle;\n",
       "    }\n",
       "\n",
       "    .dataframe tbody tr th {\n",
       "        vertical-align: top;\n",
       "    }\n",
       "\n",
       "    .dataframe thead th {\n",
       "        text-align: right;\n",
       "    }\n",
       "</style>\n",
       "<table border=\"1\" class=\"dataframe\">\n",
       "  <thead>\n",
       "    <tr style=\"text-align: right;\">\n",
       "      <th></th>\n",
       "      <th>EmployeeID</th>\n",
       "      <th>Name</th>\n",
       "      <th>Age</th>\n",
       "      <th>Department</th>\n",
       "      <th>Salary</th>\n",
       "      <th>YearsAtCompany</th>\n",
       "    </tr>\n",
       "  </thead>\n",
       "  <tbody>\n",
       "    <tr>\n",
       "      <th>4</th>\n",
       "      <td>105</td>\n",
       "      <td>Peter Brown</td>\n",
       "      <td>50</td>\n",
       "      <td>IT</td>\n",
       "      <td>95000</td>\n",
       "      <td>15</td>\n",
       "    </tr>\n",
       "    <tr>\n",
       "      <th>9</th>\n",
       "      <td>110</td>\n",
       "      <td>Alice Purple</td>\n",
       "      <td>27</td>\n",
       "      <td>IT</td>\n",
       "      <td>70000</td>\n",
       "      <td>2</td>\n",
       "    </tr>\n",
       "  </tbody>\n",
       "</table>\n",
       "</div>"
      ]
     },
     "execution_count": 11,
     "metadata": {},
     "output_type": "execute_result"
    }
   ],
   "execution_count": 11
  },
  {
   "metadata": {
    "ExecuteTime": {
     "end_time": "2025-02-26T00:33:34.424919Z",
     "start_time": "2025-02-26T00:33:34.418143Z"
    }
   },
   "cell_type": "code",
   "source": "employee[employee['Salary'] > 75000]",
   "id": "e6957058fbe4fbb5",
   "outputs": [
    {
     "data": {
      "text/plain": [
       "   EmployeeID         Name  Age Department  Salary  YearsAtCompany\n",
       "1         102     Jane Doe   34  Marketing   80000               7\n",
       "3         104    Susan Lee   39    Finance   90000               5\n",
       "4         105  Peter Brown   50         IT   95000              15\n",
       "7         108  Karen Black   41         HR   78000              11\n",
       "8         109   James Blue   38    Finance   85000               8"
      ],
      "text/html": [
       "<div>\n",
       "<style scoped>\n",
       "    .dataframe tbody tr th:only-of-type {\n",
       "        vertical-align: middle;\n",
       "    }\n",
       "\n",
       "    .dataframe tbody tr th {\n",
       "        vertical-align: top;\n",
       "    }\n",
       "\n",
       "    .dataframe thead th {\n",
       "        text-align: right;\n",
       "    }\n",
       "</style>\n",
       "<table border=\"1\" class=\"dataframe\">\n",
       "  <thead>\n",
       "    <tr style=\"text-align: right;\">\n",
       "      <th></th>\n",
       "      <th>EmployeeID</th>\n",
       "      <th>Name</th>\n",
       "      <th>Age</th>\n",
       "      <th>Department</th>\n",
       "      <th>Salary</th>\n",
       "      <th>YearsAtCompany</th>\n",
       "    </tr>\n",
       "  </thead>\n",
       "  <tbody>\n",
       "    <tr>\n",
       "      <th>1</th>\n",
       "      <td>102</td>\n",
       "      <td>Jane Doe</td>\n",
       "      <td>34</td>\n",
       "      <td>Marketing</td>\n",
       "      <td>80000</td>\n",
       "      <td>7</td>\n",
       "    </tr>\n",
       "    <tr>\n",
       "      <th>3</th>\n",
       "      <td>104</td>\n",
       "      <td>Susan Lee</td>\n",
       "      <td>39</td>\n",
       "      <td>Finance</td>\n",
       "      <td>90000</td>\n",
       "      <td>5</td>\n",
       "    </tr>\n",
       "    <tr>\n",
       "      <th>4</th>\n",
       "      <td>105</td>\n",
       "      <td>Peter Brown</td>\n",
       "      <td>50</td>\n",
       "      <td>IT</td>\n",
       "      <td>95000</td>\n",
       "      <td>15</td>\n",
       "    </tr>\n",
       "    <tr>\n",
       "      <th>7</th>\n",
       "      <td>108</td>\n",
       "      <td>Karen Black</td>\n",
       "      <td>41</td>\n",
       "      <td>HR</td>\n",
       "      <td>78000</td>\n",
       "      <td>11</td>\n",
       "    </tr>\n",
       "    <tr>\n",
       "      <th>8</th>\n",
       "      <td>109</td>\n",
       "      <td>James Blue</td>\n",
       "      <td>38</td>\n",
       "      <td>Finance</td>\n",
       "      <td>85000</td>\n",
       "      <td>8</td>\n",
       "    </tr>\n",
       "  </tbody>\n",
       "</table>\n",
       "</div>"
      ]
     },
     "execution_count": 12,
     "metadata": {},
     "output_type": "execute_result"
    }
   ],
   "execution_count": 12
  },
  {
   "metadata": {
    "ExecuteTime": {
     "end_time": "2025-02-26T00:34:27.573366Z",
     "start_time": "2025-02-26T00:34:27.566827Z"
    }
   },
   "cell_type": "code",
   "source": "employee[['Name', 'Salary']]",
   "id": "778ee230b38cb1ad",
   "outputs": [
    {
     "data": {
      "text/plain": [
       "           Name  Salary\n",
       "0    John Smith   60000\n",
       "1      Jane Doe   80000\n",
       "2   Sam Johnson   75000\n",
       "3     Susan Lee   90000\n",
       "4   Peter Brown   95000\n",
       "5   Linda Green   62000\n",
       "6   David White   72000\n",
       "7   Karen Black   78000\n",
       "8    James Blue   85000\n",
       "9  Alice Purple   70000"
      ],
      "text/html": [
       "<div>\n",
       "<style scoped>\n",
       "    .dataframe tbody tr th:only-of-type {\n",
       "        vertical-align: middle;\n",
       "    }\n",
       "\n",
       "    .dataframe tbody tr th {\n",
       "        vertical-align: top;\n",
       "    }\n",
       "\n",
       "    .dataframe thead th {\n",
       "        text-align: right;\n",
       "    }\n",
       "</style>\n",
       "<table border=\"1\" class=\"dataframe\">\n",
       "  <thead>\n",
       "    <tr style=\"text-align: right;\">\n",
       "      <th></th>\n",
       "      <th>Name</th>\n",
       "      <th>Salary</th>\n",
       "    </tr>\n",
       "  </thead>\n",
       "  <tbody>\n",
       "    <tr>\n",
       "      <th>0</th>\n",
       "      <td>John Smith</td>\n",
       "      <td>60000</td>\n",
       "    </tr>\n",
       "    <tr>\n",
       "      <th>1</th>\n",
       "      <td>Jane Doe</td>\n",
       "      <td>80000</td>\n",
       "    </tr>\n",
       "    <tr>\n",
       "      <th>2</th>\n",
       "      <td>Sam Johnson</td>\n",
       "      <td>75000</td>\n",
       "    </tr>\n",
       "    <tr>\n",
       "      <th>3</th>\n",
       "      <td>Susan Lee</td>\n",
       "      <td>90000</td>\n",
       "    </tr>\n",
       "    <tr>\n",
       "      <th>4</th>\n",
       "      <td>Peter Brown</td>\n",
       "      <td>95000</td>\n",
       "    </tr>\n",
       "    <tr>\n",
       "      <th>5</th>\n",
       "      <td>Linda Green</td>\n",
       "      <td>62000</td>\n",
       "    </tr>\n",
       "    <tr>\n",
       "      <th>6</th>\n",
       "      <td>David White</td>\n",
       "      <td>72000</td>\n",
       "    </tr>\n",
       "    <tr>\n",
       "      <th>7</th>\n",
       "      <td>Karen Black</td>\n",
       "      <td>78000</td>\n",
       "    </tr>\n",
       "    <tr>\n",
       "      <th>8</th>\n",
       "      <td>James Blue</td>\n",
       "      <td>85000</td>\n",
       "    </tr>\n",
       "    <tr>\n",
       "      <th>9</th>\n",
       "      <td>Alice Purple</td>\n",
       "      <td>70000</td>\n",
       "    </tr>\n",
       "  </tbody>\n",
       "</table>\n",
       "</div>"
      ]
     },
     "execution_count": 13,
     "metadata": {},
     "output_type": "execute_result"
    }
   ],
   "execution_count": 13
  },
  {
   "metadata": {
    "ExecuteTime": {
     "end_time": "2025-02-26T00:40:16.625287Z",
     "start_time": "2025-02-26T00:40:16.619767Z"
    }
   },
   "cell_type": "code",
   "source": "employee.groupby('Department')['Salary'].mean()",
   "id": "75cacb214fa9c86e",
   "outputs": [
    {
     "data": {
      "text/plain": [
       "Department\n",
       "Finance      87500.0\n",
       "HR           76500.0\n",
       "IT           82500.0\n",
       "Marketing    76000.0\n",
       "Sales        61000.0\n",
       "Name: Salary, dtype: float64"
      ]
     },
     "execution_count": 19,
     "metadata": {},
     "output_type": "execute_result"
    }
   ],
   "execution_count": 19
  },
  {
   "metadata": {},
   "cell_type": "markdown",
   "source": [
    "Aggregation and Grouping:\n",
    "- Calculate the average salary of all employees.\n",
    "- Calculate the average age of employees in each department.\n",
    "- Calculate the total years worked at the company for all employees.\n",
    "- Find the employee with the highest salary.\n",
    "- Calculate the average years at the company for each department."
   ],
   "id": "4072a1c5f2e806cc"
  },
  {
   "metadata": {
    "ExecuteTime": {
     "end_time": "2025-02-26T00:43:44.627390Z",
     "start_time": "2025-02-26T00:43:44.620039Z"
    }
   },
   "cell_type": "code",
   "source": "employee.groupby('Name')['Salary'].mean()",
   "id": "43362aaa8a373293",
   "outputs": [
    {
     "data": {
      "text/plain": [
       "Name\n",
       "Alice Purple    70000.0\n",
       "David White     72000.0\n",
       "James Blue      85000.0\n",
       "Jane Doe        80000.0\n",
       "John Smith      60000.0\n",
       "Karen Black     78000.0\n",
       "Linda Green     62000.0\n",
       "Peter Brown     95000.0\n",
       "Sam Johnson     75000.0\n",
       "Susan Lee       90000.0\n",
       "Name: Salary, dtype: float64"
      ]
     },
     "execution_count": 20,
     "metadata": {},
     "output_type": "execute_result"
    }
   ],
   "execution_count": 20
  },
  {
   "metadata": {
    "ExecuteTime": {
     "end_time": "2025-02-26T00:44:23.409779Z",
     "start_time": "2025-02-26T00:44:23.394591Z"
    }
   },
   "cell_type": "code",
   "source": "employee.groupby('Department')['Age'].mean()",
   "id": "bdf0bea619450e5d",
   "outputs": [
    {
     "data": {
      "text/plain": [
       "Department\n",
       "Finance      38.5\n",
       "HR           43.0\n",
       "IT           38.5\n",
       "Marketing    33.0\n",
       "Sales        28.5\n",
       "Name: Age, dtype: float64"
      ]
     },
     "execution_count": 22,
     "metadata": {},
     "output_type": "execute_result"
    }
   ],
   "execution_count": 22
  },
  {
   "metadata": {
    "ExecuteTime": {
     "end_time": "2025-02-26T00:47:35.735572Z",
     "start_time": "2025-02-26T00:47:35.729681Z"
    }
   },
   "cell_type": "code",
   "source": "employee.groupby('Name')['YearsAtCompany'].sum()",
   "id": "bad664e966d46bb2",
   "outputs": [
    {
     "data": {
      "text/plain": [
       "Name\n",
       "Alice Purple     2\n",
       "David White      6\n",
       "James Blue       8\n",
       "Jane Doe         7\n",
       "John Smith       3\n",
       "Karen Black     11\n",
       "Linda Green      4\n",
       "Peter Brown     15\n",
       "Sam Johnson     10\n",
       "Susan Lee        5\n",
       "Name: YearsAtCompany, dtype: int64"
      ]
     },
     "execution_count": 24,
     "metadata": {},
     "output_type": "execute_result"
    }
   ],
   "execution_count": 24
  },
  {
   "metadata": {
    "ExecuteTime": {
     "end_time": "2025-02-26T00:48:56.328747Z",
     "start_time": "2025-02-26T00:48:56.324068Z"
    }
   },
   "cell_type": "code",
   "source": "employee.loc[employee['Salary'].idxmax()]",
   "id": "c3362a57f28cf4b5",
   "outputs": [
    {
     "data": {
      "text/plain": [
       "EmployeeID                105\n",
       "Name              Peter Brown\n",
       "Age                        50\n",
       "Department                 IT\n",
       "Salary                  95000\n",
       "YearsAtCompany             15\n",
       "Name: 4, dtype: object"
      ]
     },
     "execution_count": 25,
     "metadata": {},
     "output_type": "execute_result"
    }
   ],
   "execution_count": 25
  },
  {
   "metadata": {
    "ExecuteTime": {
     "end_time": "2025-02-26T00:52:33.573025Z",
     "start_time": "2025-02-26T00:52:33.567995Z"
    }
   },
   "cell_type": "code",
   "source": "employee.groupby('Department')['YearsAtCompany'].mean()",
   "id": "5a896cc05892537c",
   "outputs": [
    {
     "data": {
      "text/plain": [
       "Department\n",
       "Finance       6.5\n",
       "HR           10.5\n",
       "IT            8.5\n",
       "Marketing     6.5\n",
       "Sales         3.5\n",
       "Name: YearsAtCompany, dtype: float64"
      ]
     },
     "execution_count": 26,
     "metadata": {},
     "output_type": "execute_result"
    }
   ],
   "execution_count": 26
  },
  {
   "metadata": {},
   "cell_type": "markdown",
   "source": [
    "Data Visualization:\n",
    "- Create a bar plot showing the average salary for each department.\n",
    "- Create a bar plot showing the total years at the company for each employee.\n",
    "- Create a histogram showing the distribution of employee ages.\n",
    "- Create a box plot to show the distribution of salaries for each department.\n",
    "- Create a scatter plot showing the relationship between age and salary."
   ],
   "id": "6314f691c8ca6d20"
  },
  {
   "metadata": {
    "ExecuteTime": {
     "end_time": "2025-02-26T01:19:13.650481Z",
     "start_time": "2025-02-26T01:19:12.456198Z"
    }
   },
   "cell_type": "code",
   "source": "employee.groupby('Department')['Salary'].mean().plot(kind= 'bar')",
   "id": "d6e0839f5d484f8",
   "outputs": [
    {
     "data": {
      "text/plain": [
       "<Axes: xlabel='Department'>"
      ]
     },
     "execution_count": 27,
     "metadata": {},
     "output_type": "execute_result"
    },
    {
     "data": {
      "text/plain": [
       "<Figure size 640x480 with 1 Axes>"
      ],
      "image/png": "[encoded data removed]"
     },
     "metadata": {},
     "output_type": "display_data"
    }
   ],
   "execution_count": 27
  },
  {
   "metadata": {
    "ExecuteTime": {
     "end_time": "2025-02-26T01:20:56.225489Z",
     "start_time": "2025-02-26T01:20:56.155397Z"
    }
   },
   "cell_type": "code",
   "source": "employee.groupby('Name')['YearsAtCompany'].mean().plot(kind= 'bar')",
   "id": "440bcdd0c3c1feeb",
   "outputs": [
    {
     "data": {
      "text/plain": [
       "<Axes: xlabel='Name'>"
      ]
     },
     "execution_count": 28,
     "metadata": {},
     "output_type": "execute_result"
    },
    {
     "data": {
      "text/plain": [
       "<Figure size 640x480 with 1 Axes>"
      ],
      "image/png": "[encoded data removed]"
     },
     "metadata": {},
     "output_type": "display_data"
    }
   ],
   "execution_count": 28
  },
  {
   "metadata": {
    "ExecuteTime": {
     "end_time": "2025-02-26T01:23:42.354117Z",
     "start_time": "2025-02-26T01:23:42.291210Z"
    }
   },
   "cell_type": "code",
   "source": "employee.groupby('Name')['Age'].sum().plot(kind= 'hist')",
   "id": "d96e4c3ff1f7e41c",
   "outputs": [
    {
     "data": {
      "text/plain": [
       "<Axes: ylabel='Frequency'>"
      ]
     },
     "execution_count": 34,
     "metadata": {},
     "output_type": "execute_result"
    },
    {
     "data": {
      "text/plain": [
       "<Figure size 640x480 with 1 Axes>"
      ],
      "image/png": "[encoded data removed]"
     },
     "metadata": {},
     "output_type": "display_data"
    }
   ],
   "execution_count": 34
  },
  {
   "metadata": {
    "ExecuteTime": {
     "end_time": "2025-02-26T03:59:15.158544Z",
     "start_time": "2025-02-26T03:59:15.087280Z"
    }
   },
   "cell_type": "code",
   "source": [
    "x = employee.pivot_table(values = 'Salary', columns = 'Department', index = 'Name')\n",
    "x.plot(kind = 'box')"
   ],
   "id": "ea2813ca43984d84",
   "outputs": [
    {
     "data": {
      "text/plain": [
       "<Axes: >"
      ]
     },
     "execution_count": 16,
     "metadata": {},
     "output_type": "execute_result"
    },
    {
     "data": {
      "text/plain": [
       "<Figure size 640x480 with 1 Axes>"
      ],
      "image/png": "[encoded data removed]"
     },
     "metadata": {},
     "output_type": "display_data"
    }
   ],
   "execution_count": 16
  },
  {
   "metadata": {
    "ExecuteTime": {
     "end_time": "2025-02-26T04:04:18.902088Z",
     "start_time": "2025-02-26T04:04:18.813951Z"
    }
   },
   "cell_type": "code",
   "source": "employee[['Age','Salary']].plot(kind = 'scatter', x = 'Age', y = 'Salary')",
   "id": "1e5507a8f50d1bc9",
   "outputs": [
    {
     "data": {
      "text/plain": [
       "<Axes: xlabel='Age', ylabel='Salary'>"
      ]
     },
     "execution_count": 3,
     "metadata": {},
     "output_type": "execute_result"
    },
    {
     "data": {
      "text/plain": [
       "<Figure size 640x480 with 1 Axes>"
      ],
      "image/png": "[encoded data removed]"
     },
     "metadata": {},
     "output_type": "display_data"
    }
   ],
   "execution_count": 3
  }
 ],
 "metadata": {
  "kernelspec": {
   "display_name": "Python 3",
   "language": "python",
   "name": "python3"
  },
  "language_info": {
   "codemirror_mode": {
    "name": "ipython",
    "version": 2
   },
   "file_extension": ".py",
   "mimetype": "text/x-python",
   "name": "python",
   "nbconvert_exporter": "python",
   "pygments_lexer": "ipython2",
   "version": "2.7.6"
  }
 },
 "nbformat": 4,
 "nbformat_minor": 5
}
