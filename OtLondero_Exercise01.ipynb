{
 "cells": [
  {
   "metadata": {},
   "cell_type": "markdown",
   "source": "# Exercises by: Otávio Londero",
   "id": "a00d1a0e9088de3d"
  },
  {
   "metadata": {},
   "cell_type": "markdown",
   "source": [
    "### NOTE\n",
    "#### I forgot to make comments of my line of thoughts during the exercises, i've seen that it was a thing when i have finish it all. Sorry :("
   ],
   "id": "5b26373b722203ac"
  },
  {
   "metadata": {},
   "cell_type": "markdown",
   "source": "1) Write a Python program that prints ‘My first program in Python!’",
   "id": "2a7223b85f8cfd82"
  },
  {
   "metadata": {
    "collapsed": true,
    "ExecuteTime": {
     "end_time": "2025-02-03T03:36:32.096420Z",
     "start_time": "2025-02-03T03:36:32.093374Z"
    }
   },
   "cell_type": "code",
   "outputs": [
    {
     "name": "stdout",
     "output_type": "stream",
     "text": [
      "My first program in python\n"
     ]
    }
   ],
   "execution_count": 49,
   "source": "print(\"My first program in python\")",
   "id": "initial_id"
  },
  {
   "metadata": {},
   "cell_type": "markdown",
   "source": [
    "2) Determine the data type of the following variables using the type() function and print the\n",
    "results for the following variables:\n",
    "- a) a = 10\n",
    "- b) b = 3.14\n",
    "- c) c = \"Python\"\n",
    "- d) d = True\n",
    "- e) e = [1, 2, 3]"
   ],
   "id": "bd7e4b041173fef9"
  },
  {
   "metadata": {
    "ExecuteTime": {
     "end_time": "2025-02-03T02:38:42.803191Z",
     "start_time": "2025-02-03T02:38:42.799210Z"
    }
   },
   "cell_type": "code",
   "source": [
    "a = 10\n",
    "b = 3.14\n",
    "c = \"Python\"\n",
    "d = True\n",
    "e = [1, 2, 3]\n",
    "\n",
    "print(f\"The type of the following variables in order is: A){type(a)}; B){type(b)}; C){type(c)}; D){type(d)}; E){type(e)}\")"
   ],
   "id": "92e7c376957a22b7",
   "outputs": [
    {
     "name": "stdout",
     "output_type": "stream",
     "text": [
      "The type of the following variables in order is: A)<class 'int'>; B)<class 'float'>; C)<class 'str'>; D)<class 'bool'>; E)<class 'list'>\n"
     ]
    }
   ],
   "execution_count": 11
  },
  {
   "metadata": {},
   "cell_type": "markdown",
   "source": [
    "3) In the above question, convert:\n",
    "- b to an integer\n",
    "- a to a float\n",
    "- d to an integer"
   ],
   "id": "c66e54e97ab3dd59"
  },
  {
   "metadata": {
    "ExecuteTime": {
     "end_time": "2025-02-03T02:48:29.003705Z",
     "start_time": "2025-02-03T02:48:28.999903Z"
    }
   },
   "cell_type": "code",
   "source": [
    "b = 3.14\n",
    "a = 10\n",
    "d = True\n",
    "\n",
    "b = int(b)\n",
    "d = int(d)\n",
    "a = float(a)\n",
    "\n",
    "print(f\"The following values converted are:     A){a}   B){b}   C){d}   \")"
   ],
   "id": "a7ffb81e32182575",
   "outputs": [
    {
     "name": "stdout",
     "output_type": "stream",
     "text": [
      "The following values converted are:     A)10.0   B)3   C)1   \n"
     ]
    }
   ],
   "execution_count": 18
  },
  {
   "metadata": {},
   "cell_type": "markdown",
   "source": [
    "4) Given the string: “Python is Amazing!”\n",
    "Convert the string to all lowercase.\n",
    "- a) Convert the string to all uppercase.\n",
    "- b) Find the index of the word \"Amazing\".\n",
    "- c) Replace \"Amazing\" with \"Fun\".\n",
    "- d) Print the first 6 characters of the string."
   ],
   "id": "178e105af3474792"
  },
  {
   "metadata": {
    "ExecuteTime": {
     "end_time": "2025-02-03T03:36:39.149361Z",
     "start_time": "2025-02-03T03:36:39.145545Z"
    }
   },
   "cell_type": "code",
   "source": [
    "example_string = \"Python is Amazing!\"\n",
    "print(f\"4)  {example_string.lower()}\")\n",
    "print(f\"A)  {example_string.upper()}\")\n",
    "print(f\"B)  {example_string.index('Amazing')}\")\n",
    "print(f\"D)  {example_string.replace('Amazing', 'Fun')}\")\n",
    "print(f\"E)  {example_string[:6]}\")\n"
   ],
   "id": "648a3cad6cb504f9",
   "outputs": [
    {
     "name": "stdout",
     "output_type": "stream",
     "text": [
      "4)  python is amazing!\n",
      "A)  PYTHON IS AMAZING!\n",
      "B)  10\n",
      "D)  Python is Fun!\n",
      "E)  Python\n"
     ]
    }
   ],
   "execution_count": 50
  },
  {
   "metadata": {},
   "cell_type": "markdown",
   "source": [
    "5) Write a Python program that takes an integer input from the user and checks if it is\n",
    "positive, negative, or zero. (Hint: Use the input() function which takes input from the user\n",
    "and converts it into a string)"
   ],
   "id": "ee3df5b5bb76ee5d"
  },
  {
   "metadata": {
    "ExecuteTime": {
     "end_time": "2025-02-03T03:08:59.309721Z",
     "start_time": "2025-02-03T03:08:56.369451Z"
    }
   },
   "cell_type": "code",
   "source": [
    "print(\"5) This program whill check if your input is Positive, Negative or Zero\")\n",
    "number = int(input(\"Enter a number  ->   \"))\n",
    "\n",
    "if number > 0:\n",
    "    print(f\"The number {number} is POSITIVE\")\n",
    "elif number < 0:\n",
    "    print(f\"The number {number} is NEGATIVE\")\n",
    "else:\n",
    "    print(f\"The number {number} is ZERO\")"
   ],
   "id": "8636a10226d4c211",
   "outputs": [
    {
     "name": "stdout",
     "output_type": "stream",
     "text": [
      "5) This program whill check if your input is Positive, Negative or Zero\n",
      "The number 84 is POSITIVE\n"
     ]
    }
   ],
   "execution_count": 33
  },
  {
   "metadata": {},
   "cell_type": "markdown",
   "source": [
    "6) Modify the program to check if the number is even or odd as well. (Hint: ‘%’ is used to\n",
    "perform modulo operation. For example, a%b is going to give the remainder after\n",
    "dividing a by b.)"
   ],
   "id": "1be967f2c899ecf2"
  },
  {
   "metadata": {
    "ExecuteTime": {
     "end_time": "2025-02-03T03:24:35.948237Z",
     "start_time": "2025-02-03T03:24:31.847819Z"
    }
   },
   "cell_type": "code",
   "source": [
    "print(\"6) This program will check if your input is Positive, Negative, or Zero, and verify if it's even or odd.\")\n",
    "number = int(input(\"Enter a number -> \"))\n",
    "\n",
    "def even_or_odd(number):\n",
    "    if number % 2 == 0:\n",
    "        return \"EVEN\"\n",
    "    else:\n",
    "        return \"ODD\"\n",
    "\n",
    "if number > 0:\n",
    "    print(f\"The number {number} is POSITIVE and {even_or_odd(number)}.\")\n",
    "elif number < 0:\n",
    "    print(f\"The number {number} is NEGATIVE and {even_or_odd(number)}.\")\n",
    "else:\n",
    "    print(f\"The number {number} is ZERO and {even_or_odd(number)}.\")\n"
   ],
   "id": "313edddcb3920b7c",
   "outputs": [
    {
     "name": "stdout",
     "output_type": "stream",
     "text": [
      "6) This program will check if your input is Positive, Negative, or Zero, and verify if it's even or odd.\n",
      "The number 100 is POSITIVE and EVEN.\n"
     ]
    }
   ],
   "execution_count": 44
  },
  {
   "metadata": {},
   "cell_type": "markdown",
   "source": [
    "7) Write a Python program that takes a string input from the user and counts the number of\n",
    "vowels (a, e, i, o, u) in it.\n",
    "- Input: \"hello world\"\n",
    "- Output: 3"
   ],
   "id": "8757257454c043c0"
  },
  {
   "metadata": {
    "ExecuteTime": {
     "end_time": "2025-02-03T03:34:27.613172Z",
     "start_time": "2025-02-03T03:34:23.378827Z"
    }
   },
   "cell_type": "code",
   "source": [
    "print(\"7) This program will take the phrase that you write down and counts the number of vowels\")\n",
    "string = str(input(\"Enter a Phrase -> \"))\n",
    "\n",
    "def vowels_counter(string):\n",
    "    vowels = \"aeiouAEIOU\"\n",
    "    return sum(1 for char in string if char in vowels)\n",
    "\n",
    "print(f\"The number of vowels in your phrase is  --> {vowels_counter(string)}\")"
   ],
   "id": "59e642c0d72835df",
   "outputs": [
    {
     "name": "stdout",
     "output_type": "stream",
     "text": [
      "7) This program will take the phrase that you write down and counts the number of vowels\n",
      "The number of vowels in your phrase is  --> 2\n"
     ]
    }
   ],
   "execution_count": 48
  },
  {
   "metadata": {},
   "cell_type": "markdown",
   "source": [
    "8) Given a sentence, reverse the order of words while keeping the characters in each word\n",
    "unchanged.\n",
    "- Input: \"I love Python\"\n",
    "- Output: \"Python love I\""
   ],
   "id": "f5f8907ef05897d"
  },
  {
   "metadata": {
    "ExecuteTime": {
     "end_time": "2025-02-03T03:49:59.111886Z",
     "start_time": "2025-02-03T03:49:54.511228Z"
    }
   },
   "cell_type": "code",
   "source": [
    "print(\"8) This program will reverse the order of words while keeping the characters in each word unchanged in your sentence.\")\n",
    "string = str(input(\"Enter a Phrase -> \"))\n",
    "\n",
    "reversed_string = ''.join(string.split()[::-1])\n",
    "\n",
    "print(f\"The reversed phrase is: \\n \"\n",
    "      f\"--->        {reversed_string}       <---\")\n"
   ],
   "id": "285440962661302d",
   "outputs": [
    {
     "name": "stdout",
     "output_type": "stream",
     "text": [
      "This program will reverse the order of words while keeping the characters in each word unchanged in your sentence.\n",
      "The reversed phrase is: \n",
      " --->        LonderoOtávio       <---\n"
     ]
    }
   ],
   "execution_count": 56
  },
  {
   "metadata": {},
   "cell_type": "markdown",
   "source": [
    "9) Write a program that removes duplicate characters from a string while keeping the first\n",
    "occurrence.\n",
    "- Input: \"hello world\"\n",
    "- Output: \"helo wrd\""
   ],
   "id": "1371261c8f6f8bfa"
  },
  {
   "metadata": {
    "ExecuteTime": {
     "end_time": "2025-02-03T04:01:31.133703Z",
     "start_time": "2025-02-03T04:01:24.257210Z"
    }
   },
   "cell_type": "code",
   "source": [
    "print(\"9) This program will removes duplicated character from your sentence while keeping the fist occurrence\")\n",
    "string = str(input(\"Enter a Phrase -> \"))\n",
    "\n",
    "def duplicates_remover (string):\n",
    "    trash = []\n",
    "    result = \"\"\n",
    "\n",
    "    for char in string:\n",
    "        if char not in trash:\n",
    "            result += char\n",
    "            trash.append(char)\n",
    "    return result\n",
    "\n",
    "print(f\"The sentence without character duplicates is \\n -->     {duplicates_remover(string)}    <--\")"
   ],
   "id": "acaa3119f5162130",
   "outputs": [
    {
     "name": "stdout",
     "output_type": "stream",
     "text": [
      "9) This program will removes duplicated character from your sentence while keeping the fist occurrence\n",
      "The sentence without character duplicates is \n",
      " -->     Otávio lnder    <--\n"
     ]
    }
   ],
   "execution_count": 58
  },
  {
   "metadata": {},
   "cell_type": "markdown",
   "source": [
    "10) Write a program that lets the user play Rock, Paper, Scissors against the computer.\n",
    "- The user inputs their choice (rock, paper, or scissors). (Use the input() function)\n",
    "- The program randomly chooses one.\n",
    "\n",
    "Use if-elif-else to determine the winner.\n",
    "- User: rock\n",
    "- Computer: scissors\n",
    "- Output: \"You win!\"\n",
    "- Hint: Use random.choice() function which returns a random element from the list."
   ],
   "id": "fc5908edf7b16e34"
  },
  {
   "metadata": {
    "ExecuteTime": {
     "end_time": "2025-02-03T04:22:25.556052Z",
     "start_time": "2025-02-03T04:22:21.208618Z"
    }
   },
   "cell_type": "code",
   "source": [
    "import random\n",
    "\n",
    "print(\"10) LETS PLAY ROCK, PAPER OR SCISSORS!!\")\n",
    "def get_user_choice():\n",
    "    while True:\n",
    "        user_choice = input(\"Enter rock, paper or scissors: \").lower()\n",
    "        if user_choice in [\"rock\", \"paper\", \"scissors\"]:\n",
    "            return user_choice\n",
    "        else:\n",
    "            print(\"Invalid input! Please enter rock, paper or scissors.\")\n",
    "\n",
    "def get_computer_choice():\n",
    "    return random.choice([\"rock\", \"paper\", \"scissors\"])\n",
    "\n",
    "def determine_winner(user_choice, computer_choice):\n",
    "    if user_choice == computer_choice:\n",
    "        return \"It's a tie!\"\n",
    "    elif (user_choice == \"rock\" and computer_choice == \"scissors\") or \\\n",
    "         (user_choice == \"paper\" and computer_choice == \"rock\") or \\\n",
    "         (user_choice == \"scissors\" and computer_choice == \"paper\"):\n",
    "        return \"You win!\"\n",
    "    else:\n",
    "        return \"You lose!\"\n",
    "\n",
    "def play_game():\n",
    "    user_choice = get_user_choice()\n",
    "    computer_choice = get_computer_choice()\n",
    "    print(f\"You chose {user_choice}, I chose {computer_choice}.\")\n",
    "    print(determine_winner(user_choice, computer_choice))\n",
    "\n",
    "play_game()"
   ],
   "id": "799bcfc245a26f14",
   "outputs": [
    {
     "name": "stdout",
     "output_type": "stream",
     "text": [
      "10) LETS PLAY ROCK, PAPER OR SCISSORS!!\n",
      "You chose paper, I chose scissors.\n",
      "You lose!\n"
     ]
    }
   ],
   "execution_count": 62
  }
 ],
 "metadata": {
  "kernelspec": {
   "display_name": "Python 3",
   "language": "python",
   "name": "python3"
  },
  "language_info": {
   "codemirror_mode": {
    "name": "ipython",
    "version": 2
   },
   "file_extension": ".py",
   "mimetype": "text/x-python",
   "name": "python",
   "nbconvert_exporter": "python",
   "pygments_lexer": "ipython2",
   "version": "2.7.6"
  }
 },
 "nbformat": 4,
 "nbformat_minor": 5
}
