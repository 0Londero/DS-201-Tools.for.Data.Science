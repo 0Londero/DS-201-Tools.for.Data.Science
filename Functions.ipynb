{
 "cells": [
  {
   "metadata": {},
   "cell_type": "markdown",
   "source": [
    "1. Function Basics: Write a function called greet that takes a name as an argument and prints a greeting message with that name.\n",
    "\n",
    "2. Return Values: Create a function square that takes an integer and returns its square.\n",
    "\n",
    "3. Multiple Parameters: Write a function add that takes two numbers as parameters and returns their sum.\n"
   ],
   "id": "e0e6977cdd0d3c66"
  },
  {
   "cell_type": "code",
   "id": "initial_id",
   "metadata": {
    "collapsed": true,
    "ExecuteTime": {
     "end_time": "2025-02-05T02:35:39.812157Z",
     "start_time": "2025-02-05T02:35:35.445565Z"
    }
   },
   "source": [
    "# Exercise 01\n",
    "def greet(name):\n",
    "    return f\"Hello, {name}!\"\n",
    "\n",
    "name = input(\"What's your name? \")\n",
    "greet(name)"
   ],
   "outputs": [
    {
     "data": {
      "text/plain": [
       "'Hello, Otávio Londero!'"
      ]
     },
     "execution_count": 6,
     "metadata": {},
     "output_type": "execute_result"
    }
   ],
   "execution_count": 6
  },
  {
   "metadata": {
    "ExecuteTime": {
     "end_time": "2025-02-05T02:37:18.924775Z",
     "start_time": "2025-02-05T02:37:17.084336Z"
    }
   },
   "cell_type": "code",
   "source": [
    "# Exercise 02\n",
    "def square(num):\n",
    "    return num * num\n",
    "\n",
    "num = float(input(\"Enter a number: \"))\n",
    "square(num)"
   ],
   "id": "2e6a4de1af5f493",
   "outputs": [
    {
     "data": {
      "text/plain": [
       "16.0"
      ]
     },
     "execution_count": 9,
     "metadata": {},
     "output_type": "execute_result"
    }
   ],
   "execution_count": 9
  },
  {
   "metadata": {
    "ExecuteTime": {
     "end_time": "2025-02-05T02:41:26.664557Z",
     "start_time": "2025-02-05T02:41:19.933623Z"
    }
   },
   "cell_type": "code",
   "source": [
    "# Exercise 03\n",
    "def add(num1, num2):\n",
    "    return num1 + num2\n",
    "\n",
    "num1 = float(input(\"Enter a number: \"))\n",
    "num2 = float(input(\"Enter another number: \"))\n",
    "\n",
    "add(num1, num2)"
   ],
   "id": "5d00ea4452e5b44d",
   "outputs": [
    {
     "data": {
      "text/plain": [
       "8.0"
      ]
     },
     "execution_count": 10,
     "metadata": {},
     "output_type": "execute_result"
    }
   ],
   "execution_count": 10
  },
  {
   "metadata": {},
   "cell_type": "markdown",
   "source": [
    "4. Default Parameters: Write a function greet_user that greets the user with a default name if no name is provided. The default name should be \"Guest\".\n",
    "\n",
    "5. Keyword Arguments: Write a function format_address that takes street, city, and country as keyword arguments and returns a formatted address string.\n",
    "\n",
    "6. Docstrings: Create a function factorial that calculates the factorial of a given number and includes a docstring explaining the function.v\n"
   ],
   "id": "3c02acce5b6d238a"
  },
  {
   "metadata": {
    "ExecuteTime": {
     "end_time": "2025-02-05T03:20:07.733971Z",
     "start_time": "2025-02-05T03:20:06.182474Z"
    }
   },
   "cell_type": "code",
   "source": [
    "# Exercise 04\n",
    "def greet_user(name=\"Guest\"):\n",
    "    return f\"Hello, {name}!\"\n",
    "\n",
    "name = input(\"What's your name? \") or \"Guest\"\n",
    "print(greet_user(name))\n"
   ],
   "id": "731ebb1c4175e671",
   "outputs": [
    {
     "name": "stdout",
     "output_type": "stream",
     "text": [
      "Hello, Guest!\n"
     ]
    }
   ],
   "execution_count": 22
  },
  {
   "metadata": {
    "ExecuteTime": {
     "end_time": "2025-02-05T03:24:01.242286Z",
     "start_time": "2025-02-05T03:23:43.049398Z"
    }
   },
   "cell_type": "code",
   "source": [
    "# Exercise 05\n",
    "def format_address(street, city, country):\n",
    "    return f\"{street}, {city}, {country}\"\n",
    "\n",
    "street = input(\"Enter a street address: \")\n",
    "city = input(\"Enter a city: \")\n",
    "country = input(\"Enter a country: \")\n",
    "\n",
    "print(format_address(street, city, country))"
   ],
   "id": "c6e80e003cf19cc5",
   "outputs": [
    {
     "name": "stdout",
     "output_type": "stream",
     "text": [
      "Cardiff, Vancouver, BC\n"
     ]
    }
   ],
   "execution_count": 23
  },
  {
   "metadata": {
    "ExecuteTime": {
     "end_time": "2025-02-06T03:19:13.868049Z",
     "start_time": "2025-02-06T03:19:11.597643Z"
    }
   },
   "cell_type": "code",
   "source": [
    "# Exercise 06\n",
    "number = int(input(f\"Input a number to calculate its fatorial:   -> \"))\n",
    "\n",
    "def factorial(n):\n",
    "    if n < 2:\n",
    "        return 1\n",
    "    return n * factorial(n - 1)\n",
    "\n",
    "factorial(number)\n"
   ],
   "id": "91fe48a4437eacdf",
   "outputs": [
    {
     "data": {
      "text/plain": [
       "720"
      ]
     },
     "execution_count": 17,
     "metadata": {},
     "output_type": "execute_result"
    }
   ],
   "execution_count": 17
  },
  {
   "metadata": {},
   "cell_type": "markdown",
   "source": [
    "7. Calculate BMI: Write a function calc_bmi that takes 2 numbers (height and weight) and returns the bmi.\n",
    "\n",
    "8. Simple Arithmetic: Write a function multiply that takes two numbers as parameters and returns their product.\n",
    "\n",
    "9. String Manipulation: Write a function reverse_string that takes a string as an argument and returns the reversed string."
   ],
   "id": "90c404046fd7cb40"
  },
  {
   "metadata": {
    "ExecuteTime": {
     "end_time": "2025-02-06T03:45:15.669745Z",
     "start_time": "2025-02-06T03:45:08.952904Z"
    }
   },
   "cell_type": "code",
   "source": [
    "# Exercise 07\n",
    "\n",
    "print(\"This program will calculate your BMI\")\n",
    "height = float(input(\"Enter a height: \"))\n",
    "weight = float(input(\"Enter a weight: \"))\n",
    "\n",
    "def calc_bmi(height, weight):\n",
    "    return weight / (height * height)\n",
    "\n",
    "print(f\"{calc_bmi(height, weight)}\")"
   ],
   "id": "7d31d467ee8813d6",
   "outputs": [
    {
     "name": "stdout",
     "output_type": "stream",
     "text": [
      "This program will calculate your BMI\n",
      "21.258503401360546\n"
     ]
    }
   ],
   "execution_count": 23
  },
  {
   "metadata": {
    "ExecuteTime": {
     "end_time": "2025-02-06T03:58:41.473653Z",
     "start_time": "2025-02-06T03:58:35.352643Z"
    }
   },
   "cell_type": "code",
   "source": [
    "# Exercise 08\n",
    "number_mul = float(input(\"Enter the first number to multiply: \"))\n",
    "number_mult = float(input(\"Enter the second number to multiply: \"))\n",
    "def multiply(num1, num2):\n",
    "    return num1 * num2\n",
    "\n",
    "print(f\"{multiply(number_mul, number_mult)}\")"
   ],
   "id": "a15eeae4a9a08f88",
   "outputs": [
    {
     "name": "stdout",
     "output_type": "stream",
     "text": [
      "4.0\n"
     ]
    }
   ],
   "execution_count": 24
  },
  {
   "metadata": {},
   "cell_type": "code",
   "outputs": [],
   "execution_count": null,
   "source": [
    "# Exercise 09\n",
    "\n",
    "print(\"This program will reverse the order of your string\")\n",
    "user_input = str(input(\"Write your string here:    \"))\n",
    "\n",
    "def sakasama_no_sekai (string):\n",
    "    return string[::-1]\n",
    "\n",
    "print(sakasama_no_sekai(user_input))"
   ],
   "id": "c19eca3e22279e21"
  },
  {
   "metadata": {},
   "cell_type": "markdown",
   "source": [
    "10. Boolean Functions: Write a function is_even that takes an integer and returns True if the number is even and False otherwise.\n",
    "\n",
    "11. List Operations: Write a function sum_list that takes a list of numbers and returns the sum of the list.\n",
    "\n",
    "12. Count Occurrences: Write a function count_vowels that takes a string and returns the number of vowels in the string."
   ],
   "id": "a087e408ebe7293d"
  },
  {
   "metadata": {
    "ExecuteTime": {
     "end_time": "2025-02-06T23:39:53.131506Z",
     "start_time": "2025-02-06T23:39:51.616623Z"
    }
   },
   "cell_type": "code",
   "source": [
    "# Exercise 10\n",
    "num = int(input(\"Enter a number: \"))\n",
    "\n",
    "def is_even (num):\n",
    "    if num %2 == 0:\n",
    "        return True\n",
    "    else:\n",
    "        return False\n",
    "\n",
    "print(is_even(num))"
   ],
   "id": "86f010f78f891d1e",
   "outputs": [
    {
     "name": "stdout",
     "output_type": "stream",
     "text": [
      "True\n"
     ]
    }
   ],
   "execution_count": 3
  },
  {
   "metadata": {
    "ExecuteTime": {
     "end_time": "2025-02-07T01:26:59.965299Z",
     "start_time": "2025-02-07T01:26:59.961900Z"
    }
   },
   "cell_type": "code",
   "source": [
    "# Exercise 11\n",
    "list00 = [1, 2, 3, 4, 5]\n",
    "list11 = [6, 7, 8, 9, 10]\n",
    "\n",
    "def sum_list (list1, list2):\n",
    "    return list1 + list2\n",
    "\n",
    "print(sum_list(list00, list11))"
   ],
   "id": "ae4d4d196c41874c",
   "outputs": [
    {
     "name": "stdout",
     "output_type": "stream",
     "text": [
      "[1, 2, 3, 4, 5, 6, 7, 8, 9, 10]\n"
     ]
    }
   ],
   "execution_count": 1
  },
  {
   "metadata": {
    "ExecuteTime": {
     "end_time": "2025-02-07T01:39:31.231922Z",
     "start_time": "2025-02-07T01:39:31.228309Z"
    }
   },
   "cell_type": "code",
   "outputs": [
    {
     "name": "stdout",
     "output_type": "stream",
     "text": [
      "5\n"
     ]
    }
   ],
   "execution_count": 16,
   "source": [
    "# Exercise 12\n",
    "string00 = \"aeiou\"\n",
    "\n",
    "def count_vowels (string):\n",
    "    count = 0\n",
    "    for char in string:\n",
    "        if char in \"aeiouAEIOU\":\n",
    "            count += 1\n",
    "    return count\n",
    "\n",
    "print(count_vowels(string00))"
   ],
   "id": "40a26e8d318bb5df"
  },
  {
   "metadata": {},
   "cell_type": "markdown",
   "source": [
    "13. Find Maximum: Write a function find_max that takes three numbers and returns the maximum of the three.\n",
    "\n",
    "14. Palindrome Check: Write a function is_palindrome that takes a string and returns True if the string is a palindrome and False otherwise.\n",
    "\n",
    "15. Temperature Conversion: Write a function celsius_to_fahrenheit that takes a temperature in Celsius and returns the temperature in Fahrenheit."
   ],
   "id": "1dd1f700de301806"
  },
  {
   "metadata": {},
   "cell_type": "code",
   "outputs": [],
   "execution_count": null,
   "source": [
    "# Exercise 13\n",
    "def find_max (a, b, c):\n",
    "    return max(a, b, c)"
   ],
   "id": "8b29e28dfa8a7797"
  },
  {
   "metadata": {},
   "cell_type": "code",
   "outputs": [],
   "execution_count": null,
   "source": [
    "# Exercise 14\n",
    "def is_palindrome (word):\n",
    "    return word == word[::-1]"
   ],
   "id": "98988d4dc4d572c2"
  },
  {
   "metadata": {},
   "cell_type": "code",
   "outputs": [],
   "execution_count": null,
   "source": [
    "# Exercise 15\n",
    "def celsius_to_fahrenheit (celsius):\n",
    "    return celsius * (9 / 5) + 32"
   ],
   "id": "2d0251f6e6ad0224"
  }
 ],
 "metadata": {
  "kernelspec": {
   "display_name": "Python 3",
   "language": "python",
   "name": "python3"
  },
  "language_info": {
   "codemirror_mode": {
    "name": "ipython",
    "version": 2
   },
   "file_extension": ".py",
   "mimetype": "text/x-python",
   "name": "python",
   "nbconvert_exporter": "python",
   "pygments_lexer": "ipython2",
   "version": "2.7.6"
  }
 },
 "nbformat": 4,
 "nbformat_minor": 5
}
