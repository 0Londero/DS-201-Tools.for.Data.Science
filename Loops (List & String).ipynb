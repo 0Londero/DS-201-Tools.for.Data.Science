{
 "cells": [
  {
   "metadata": {},
   "cell_type": "markdown",
   "source": [
    "## String Questions:\n",
    "\n",
    "1) Write a loop to print each character in the string \"Python\".\n",
    "\n",
    "2) Write a loop to count the number of vowels in the string \"data science\".\n",
    "\n",
    "3) Write a loop to reverse the string \"hello world\" and print the reversed string."
   ],
   "id": "ae0fac2865abbc20"
  },
  {
   "metadata": {
    "ExecuteTime": {
     "end_time": "2025-02-05T17:24:18.082088Z",
     "start_time": "2025-02-05T17:24:18.076365Z"
    }
   },
   "cell_type": "code",
   "source": [
    "# Exercise 01\n",
    "s = \"Python\"\n",
    "for char in s:\n",
    "    print(char)"
   ],
   "id": "85d9a52963b481b1",
   "outputs": [
    {
     "name": "stdout",
     "output_type": "stream",
     "text": [
      "P\n",
      "y\n",
      "t\n",
      "h\n",
      "o\n",
      "n\n"
     ]
    }
   ],
   "execution_count": 9
  },
  {
   "metadata": {
    "ExecuteTime": {
     "end_time": "2025-02-05T17:34:51.132807Z",
     "start_time": "2025-02-05T17:34:51.127391Z"
    }
   },
   "cell_type": "code",
   "source": [
    "# Exercise 02\n",
    "s0 = \"data science\"\n",
    "count = 0\n",
    "\n",
    "for char in s0:\n",
    "    if char in \"aeiouAEIOU\":\n",
    "        count += 1\n",
    "\n",
    "print(f\"The amount of vowels in s0 is:  {count}\")"
   ],
   "id": "4c54135ea65904c",
   "outputs": [
    {
     "name": "stdout",
     "output_type": "stream",
     "text": [
      "The amount of vowels in s0 is:  5\n"
     ]
    }
   ],
   "execution_count": 20
  },
  {
   "metadata": {
    "ExecuteTime": {
     "end_time": "2025-02-05T17:46:30.590450Z",
     "start_time": "2025-02-05T17:46:30.586259Z"
    }
   },
   "cell_type": "code",
   "source": [
    "# Exercise 03\n",
    "s1 = \"hello world\"\n",
    "reversed_s1 = \"\"\n",
    "\n",
    "for char in s1:\n",
    "    reversed_s1 = char + reversed_s1\n",
    "\n",
    "print(reversed_s1)"
   ],
   "id": "1629bb146320e984",
   "outputs": [
    {
     "name": "stdout",
     "output_type": "stream",
     "text": [
      "dlrow olleh\n"
     ]
    }
   ],
   "execution_count": 27
  },
  {
   "metadata": {},
   "cell_type": "markdown",
   "source": [
    "4) Write a loop to print the ASCII value of each character (search ord() function) in the string \"coding\".\n",
    "\n",
    "5) Write a loop to count the number of times the character \"e\" appears in the string \"experience\".\n",
    "\n",
    "6) Write a loop to replace each vowel in the string \"education\" with an asterisk (*)."
   ],
   "id": "ad20067d663e3e34"
  },
  {
   "metadata": {
    "ExecuteTime": {
     "end_time": "2025-02-05T18:00:25.978916Z",
     "start_time": "2025-02-05T18:00:25.973231Z"
    }
   },
   "cell_type": "code",
   "source": [
    "# Exercise 04\n",
    "s2 = \"coding\"\n",
    "\n",
    "for char in s1:\n",
    "    print(f\"Character: {char}   ASCII:  {ord(char)}\")"
   ],
   "id": "ee8706c3aeca73db",
   "outputs": [
    {
     "name": "stdout",
     "output_type": "stream",
     "text": [
      "Character: h   ASCII:  104\n",
      "Character: e   ASCII:  101\n",
      "Character: l   ASCII:  108\n",
      "Character: l   ASCII:  108\n",
      "Character: o   ASCII:  111\n",
      "Character:     ASCII:  32\n",
      "Character: w   ASCII:  119\n",
      "Character: o   ASCII:  111\n",
      "Character: r   ASCII:  114\n",
      "Character: l   ASCII:  108\n",
      "Character: d   ASCII:  100\n"
     ]
    }
   ],
   "execution_count": 31
  },
  {
   "metadata": {
    "ExecuteTime": {
     "end_time": "2025-02-05T18:05:21.203750Z",
     "start_time": "2025-02-05T18:05:21.199004Z"
    }
   },
   "cell_type": "code",
   "source": [
    "# Exercise 05\n",
    "s3 = \"experience\"\n",
    "e_count = 0\n",
    "\n",
    "for char in s3:\n",
    "    if char in \"eE\":\n",
    "        e_count += 1\n",
    "\n",
    "print(f\"The number of times 'e' appears in the string {s3} is:      {e_count}\")"
   ],
   "id": "43c43286c3c44c37",
   "outputs": [
    {
     "name": "stdout",
     "output_type": "stream",
     "text": [
      "The number of times 'e' appears in the string experience is:      4\n"
     ]
    }
   ],
   "execution_count": 34
  },
  {
   "metadata": {
    "ExecuteTime": {
     "end_time": "2025-02-05T18:13:59.880939Z",
     "start_time": "2025-02-05T18:13:59.876429Z"
    }
   },
   "cell_type": "code",
   "source": [
    "# Exercise 06\n",
    "s4 = \"education\"\n",
    "s4_new = \"\"\n",
    "\n",
    "for char in s4:\n",
    "    if char in \"aeiouAEIOU\":\n",
    "        s4_new += \"*\"\n",
    "    else:\n",
    "        s4_new += char\n",
    "\n",
    "print(s4_new)"
   ],
   "id": "fad3f8e0724d42d0",
   "outputs": [
    {
     "name": "stdout",
     "output_type": "stream",
     "text": [
      "*d*c*t**n\n"
     ]
    }
   ],
   "execution_count": 46
  },
  {
   "metadata": {},
   "cell_type": "markdown",
   "source": [
    "7) Write a loop to print every second character in the string \"looping\".\n",
    "\n",
    "8) Write a loop to find the first repeating character in the string \"swiss\".\n",
    "\n",
    "9) Write a loop to capitalize each word in the string \"machine learning is fun\".\n",
    "\n",
    "10) Write a loop to check if the string \"racecar\" is the same forwards and backwards (ignore case)."
   ],
   "id": "e5aac5baab1e65f1"
  },
  {
   "metadata": {
    "ExecuteTime": {
     "end_time": "2025-02-05T23:24:44.265834Z",
     "start_time": "2025-02-05T23:24:44.260357Z"
    }
   },
   "cell_type": "code",
   "source": [
    "# Exercise 07\n",
    "s5 = \"looping\"\n",
    "\n",
    "for index in range(len(s5)):\n",
    "    if index % 2 != 0:\n",
    "        print(s5[index])"
   ],
   "id": "da9b655fcadc2697",
   "outputs": [
    {
     "name": "stdout",
     "output_type": "stream",
     "text": [
      "o\n",
      "p\n",
      "n\n"
     ]
    }
   ],
   "execution_count": 4
  },
  {
   "metadata": {
    "ExecuteTime": {
     "end_time": "2025-02-05T23:33:16.322920Z",
     "start_time": "2025-02-05T23:33:16.318776Z"
    }
   },
   "cell_type": "code",
   "source": [
    "# Exercise 08\n",
    "s6 = \"swiss\"\n",
    "trash = \"\"\n",
    "\n",
    "for char in s6:\n",
    "    if char in trash:\n",
    "        print(char)\n",
    "        break\n",
    "    trash += char"
   ],
   "id": "d4705a168d28b8f7",
   "outputs": [
    {
     "name": "stdout",
     "output_type": "stream",
     "text": [
      "s\n"
     ]
    }
   ],
   "execution_count": 12
  },
  {
   "metadata": {
    "ExecuteTime": {
     "end_time": "2025-02-05T23:35:08.387036Z",
     "start_time": "2025-02-05T23:35:08.382674Z"
    }
   },
   "cell_type": "code",
   "source": [
    "# Exercise 09\n",
    "s7 = \"machine learning is fun\"\n",
    "\n",
    "for char in s7:\n",
    "    capitalized_char = char.upper()\n",
    "    print(capitalized_char)"
   ],
   "id": "156881a5a7a03c64",
   "outputs": [
    {
     "name": "stdout",
     "output_type": "stream",
     "text": [
      "M\n",
      "A\n",
      "C\n",
      "H\n",
      "I\n",
      "N\n",
      "E\n",
      " \n",
      "L\n",
      "E\n",
      "A\n",
      "R\n",
      "N\n",
      "I\n",
      "N\n",
      "G\n",
      " \n",
      "I\n",
      "S\n",
      " \n",
      "F\n",
      "U\n",
      "N\n"
     ]
    }
   ],
   "execution_count": 13
  },
  {
   "metadata": {
    "ExecuteTime": {
     "end_time": "2025-02-05T23:47:22.117762Z",
     "start_time": "2025-02-05T23:47:22.112023Z"
    }
   },
   "cell_type": "code",
   "source": [
    "# Exercise 10\n",
    "s8 = \"racecar\"\n",
    "\n",
    "\n",
    "if s8 == s8[::-1]:\n",
    "    print(\"True\")\n",
    "else:\n",
    "    print(\"False\")"
   ],
   "id": "5172dfc10b3493e8",
   "outputs": [
    {
     "name": "stdout",
     "output_type": "stream",
     "text": [
      "True\n"
     ]
    }
   ],
   "execution_count": 26
  },
  {
   "metadata": {},
   "cell_type": "markdown",
   "source": [
    "## List Questions:\n",
    "1) Write a loop to print each element in the list [10, 20, 30, 40, 50].\n",
    "\n",
    "2) Write a loop to calculate the sum of all elements in the list [1, 2, 3, 4, 5].\n",
    "\n",
    "3) Write a loop to find the largest number in the list [3, 7, 2, 9, 4].\n"
   ],
   "id": "21f8ddd76615c91f"
  },
  {
   "metadata": {
    "ExecuteTime": {
     "end_time": "2025-02-06T00:24:29.549165Z",
     "start_time": "2025-02-06T00:24:29.544636Z"
    }
   },
   "cell_type": "code",
   "source": [
    "# Exercise 01\n",
    "l0 = [10,20,30,40,50]\n",
    "for int in l0:\n",
    "    print(int)"
   ],
   "id": "e024977ba4740bf",
   "outputs": [
    {
     "name": "stdout",
     "output_type": "stream",
     "text": [
      "10\n",
      "20\n",
      "30\n",
      "40\n",
      "50\n"
     ]
    }
   ],
   "execution_count": 27
  },
  {
   "metadata": {
    "ExecuteTime": {
     "end_time": "2025-02-06T00:26:32.155460Z",
     "start_time": "2025-02-06T00:26:32.152052Z"
    }
   },
   "cell_type": "code",
   "source": [
    "# Exercise 02\n",
    "l1 = [1,2,3,4,5]\n",
    "value = 0\n",
    "for num in l1:\n",
    "    value += num\n",
    "\n",
    "print(value)"
   ],
   "id": "20cf4719f6fcb0fe",
   "outputs": [
    {
     "name": "stdout",
     "output_type": "stream",
     "text": [
      "15\n"
     ]
    }
   ],
   "execution_count": 30
  },
  {
   "metadata": {
    "ExecuteTime": {
     "end_time": "2025-02-06T00:31:11.059356Z",
     "start_time": "2025-02-06T00:31:11.055180Z"
    }
   },
   "cell_type": "code",
   "source": [
    "# Exercise 03\n",
    "l2 = [3,7,2,9,4]\n",
    "buffer = l2[0]\n",
    "\n",
    "for num in l2:\n",
    "    if num > buffer:\n",
    "        buffer = num\n",
    "\n",
    "print(buffer)\n"
   ],
   "id": "143e70aab7c1c0af",
   "outputs": [
    {
     "name": "stdout",
     "output_type": "stream",
     "text": [
      "9\n"
     ]
    }
   ],
   "execution_count": 45
  },
  {
   "metadata": {},
   "cell_type": "markdown",
   "source": [
    "4) Write a loop to count how many times the number 4 appears in the list [1, 4, 4, 2, 4, 3].\n",
    "\n",
    "5) Write a loop to create a new list that contains the squares of each number in the list [1, 2, 3, 4, 5].\n",
    "\n",
    "6) Write a loop to concatenate all the words in the list [\"Python\", \"is\", \"awesome\"] into a single string."
   ],
   "id": "f0cea20142aa6df1"
  },
  {
   "metadata": {
    "ExecuteTime": {
     "end_time": "2025-02-06T00:33:48.944168Z",
     "start_time": "2025-02-06T00:33:48.940109Z"
    }
   },
   "cell_type": "code",
   "source": [
    "# Exercise 04\n",
    "l3 = [1,4,4,2,4,3]\n",
    "count = 0\n",
    "\n",
    "for item in l3:\n",
    "    if item == 4:\n",
    "        count += 1\n",
    "\n",
    "print(count)"
   ],
   "id": "b9a49075b18c518f",
   "outputs": [
    {
     "name": "stdout",
     "output_type": "stream",
     "text": [
      "3\n"
     ]
    }
   ],
   "execution_count": 46
  },
  {
   "metadata": {
    "ExecuteTime": {
     "end_time": "2025-02-06T00:35:36.275134Z",
     "start_time": "2025-02-06T00:35:36.268961Z"
    }
   },
   "cell_type": "code",
   "source": [
    "# Exercise 05\n",
    "l4 = [1,2,3,4,5]\n",
    "new_l4 = []\n",
    "\n",
    "for item in l4:\n",
    "    new_l4.append(item*item)\n",
    "\n",
    "print(new_l4)"
   ],
   "id": "e4c3f482f216292a",
   "outputs": [
    {
     "name": "stdout",
     "output_type": "stream",
     "text": [
      "[1, 4, 9, 16, 25]\n"
     ]
    }
   ],
   "execution_count": 47
  },
  {
   "metadata": {
    "ExecuteTime": {
     "end_time": "2025-02-06T00:48:33.278669Z",
     "start_time": "2025-02-06T00:48:33.274547Z"
    }
   },
   "cell_type": "code",
   "source": [
    "# Exercise 06\n",
    "l5 = [\"Python\", \"is\", \"awesome\"]\n",
    "x = \"\"\n",
    "\n",
    "\n",
    "for item in l5:\n",
    "    x += item + \" \"\n",
    "\n",
    "\n",
    "print(x)"
   ],
   "id": "e779883875ff4c8",
   "outputs": [
    {
     "name": "stdout",
     "output_type": "stream",
     "text": [
      "Python is awesome \n"
     ]
    }
   ],
   "execution_count": 63
  },
  {
   "metadata": {},
   "cell_type": "markdown",
   "source": [
    "7) Write a loop to create a new list that contains only the even numbers from the list [1, 2, 3, 4, 5, 6, 7, 8, 9, 10].\n",
    "\n",
    "8) Write a loop to multiply each number in the list [2, 4, 6, 8] by 2 and store the results in a new list.\n",
    "\n",
    "9) Write a loop to remove all occurrences of the number 3 from the list [1, 3, 3, 4, 3, 5, 3].\n",
    "\n",
    "10) Write a loop to find the index of the first occurrence of the number 7 in the list [5, 7, 8, 7, 10]."
   ],
   "id": "b0eca00a23387f7d"
  },
  {
   "metadata": {
    "ExecuteTime": {
     "end_time": "2025-02-06T00:52:21.849064Z",
     "start_time": "2025-02-06T00:52:21.844778Z"
    }
   },
   "cell_type": "code",
   "source": [
    "# Exercise 07\n",
    "l6 = [i for i in range(1,11)]\n",
    "new_l6 = []\n",
    "\n",
    "for i in l6:\n",
    "    if i % 2 == 0:\n",
    "        new_l6.append(i)\n",
    "\n",
    "print(new_l6)"
   ],
   "id": "501d35d29c04f8a3",
   "outputs": [
    {
     "name": "stdout",
     "output_type": "stream",
     "text": [
      "[2, 4, 6, 8, 10]\n"
     ]
    }
   ],
   "execution_count": 72
  },
  {
   "metadata": {
    "ExecuteTime": {
     "end_time": "2025-02-06T01:49:55.194838Z",
     "start_time": "2025-02-06T01:49:55.180212Z"
    }
   },
   "cell_type": "code",
   "source": [
    "# Exercise 08\n",
    "l7 = [2,5,6,8]\n",
    "l7_new = []\n",
    "\n",
    "for item in l7:\n",
    "    l7_new.append(item*2)\n",
    "\n",
    "print(l7_new)"
   ],
   "id": "a8f86e7609cf8b3c",
   "outputs": [
    {
     "name": "stdout",
     "output_type": "stream",
     "text": [
      "[4, 10, 12, 16]\n"
     ]
    }
   ],
   "execution_count": 73
  },
  {
   "metadata": {
    "ExecuteTime": {
     "end_time": "2025-02-06T02:02:45.054888Z",
     "start_time": "2025-02-06T02:02:45.049559Z"
    }
   },
   "cell_type": "code",
   "source": [
    "# Exercise 09\n",
    "l8 = [1,3,3,4,3,5,3]\n",
    "\n",
    "for item in range(len(l8) - 1, -1, -1):\n",
    "    if l8[item] == 3:\n",
    "        l8.remove(l8[item])\n",
    "\n",
    "print(l8)"
   ],
   "id": "3b304e4a51fb29e7",
   "outputs": [
    {
     "name": "stdout",
     "output_type": "stream",
     "text": [
      "[1, 4, 5]\n"
     ]
    }
   ],
   "execution_count": 101
  },
  {
   "metadata": {
    "ExecuteTime": {
     "end_time": "2025-02-06T05:09:07.779833Z",
     "start_time": "2025-02-06T05:09:07.774964Z"
    }
   },
   "cell_type": "code",
   "source": [
    "# Exercise 10\n",
    "l9 = [5,7,8,7,10]\n",
    "\n",
    "for (i,val) in enumerate(l9):\n",
    "    if val == 7:\n",
    "        print(i)\n",
    "        break\n",
    "\n"
   ],
   "id": "2ab9965604727087",
   "outputs": [
    {
     "name": "stdout",
     "output_type": "stream",
     "text": [
      "1\n"
     ]
    }
   ],
   "execution_count": 212
  }
 ],
 "metadata": {
  "kernelspec": {
   "display_name": "Python 3",
   "language": "python",
   "name": "python3"
  },
  "language_info": {
   "codemirror_mode": {
    "name": "ipython",
    "version": 2
   },
   "file_extension": ".py",
   "mimetype": "text/x-python",
   "name": "python",
   "nbconvert_exporter": "python",
   "pygments_lexer": "ipython2",
   "version": "2.7.6"
  }
 },
 "nbformat": 4,
 "nbformat_minor": 5
}
